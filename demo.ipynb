{
 "cells": [
  {
   "cell_type": "code",
   "execution_count": 1,
   "metadata": {},
   "outputs": [
    {
     "data": {
      "text/plain": [
       "'ab'"
      ]
     },
     "execution_count": 1,
     "metadata": {},
     "output_type": "execute_result"
    }
   ],
   "source": [
    "let arr = ['a','b','c'];\n",
    "arr[0] + arr[1]"
   ]
  },
  {
   "cell_type": "code",
   "execution_count": 3,
   "metadata": {},
   "outputs": [
    {
     "data": {
      "text/plain": [
       "false"
      ]
     },
     "execution_count": 3,
     "metadata": {},
     "output_type": "execute_result"
    }
   ],
   "source": [
    "{\n",
    "  let patten$_a_f = /[$_a-f]/i;\n",
    "  let patten0_9 = /[0-9]/i;\n",
    "  let row = \"char b = 'b'\"\n",
    "  let pos = 1\n",
    "  patten$_a_f.test(row[pos])\n",
    "}"
   ]
  },
  {
   "cell_type": "code",
   "execution_count": 7,
   "metadata": {},
   "outputs": [
    {
     "data": {
      "text/plain": [
       "11"
      ]
     },
     "execution_count": 7,
     "metadata": {},
     "output_type": "execute_result"
    }
   ],
   "source": [
    "{\n",
    "  let row = \"char b = 'b'  // 注释\";\n",
    "  let pos = 9;\n",
    "  let key = \"\\'\"\n",
    "  row.indexOf(key,pos+1);\n",
    "}"
   ]
  },
  {
   "cell_type": "code",
   "execution_count": 8,
   "metadata": {},
   "outputs": [
    {
     "data": {
      "text/plain": [
       "true"
      ]
     },
     "execution_count": 8,
     "metadata": {},
     "output_type": "execute_result"
    }
   ],
   "source": [
    "\"'\" === '\\''"
   ]
  },
  {
   "cell_type": "code",
   "execution_count": 9,
   "metadata": {},
   "outputs": [
    {
     "data": {
      "text/plain": [
       "true"
      ]
     },
     "execution_count": 9,
     "metadata": {},
     "output_type": "execute_result"
    }
   ],
   "source": [
    "{\n",
    "  let pattenBoundary = /[{};,\\s]/i;\n",
    "  pattenBoundary.test(' ')\n",
    "}"
   ]
  },
  {
   "cell_type": "code",
   "execution_count": 11,
   "metadata": {},
   "outputs": [
    {
     "name": "stdout",
     "output_type": "stream",
     "text": [
      "-1\n"
     ]
    }
   ],
   "source": [
    "{\n",
    "  let row = 'edfe/'\n",
    "  // let index = row.match(/\\*\\//);\n",
    "  let index = row.search(/\\*\\//)\n",
    "  console.log(index);\n",
    "}"
   ]
  },
  {
   "cell_type": "code",
   "execution_count": 1,
   "metadata": {},
   "outputs": [
    {
     "data": {
      "text/plain": [
       "20"
      ]
     },
     "execution_count": 1,
     "metadata": {},
     "output_type": "execute_result"
    }
   ],
   "source": [
    "'测试用例，最后大家要统计关键字的个数*/'.length"
   ]
  },
  {
   "cell_type": "code",
   "execution_count": 7,
   "metadata": {},
   "outputs": [
    {
     "name": "stdout",
     "output_type": "stream",
     "text": [
      "true\n"
     ]
    }
   ],
   "source": [
    "{\n",
    "  let testData = `      \n",
    "`\n",
    "  function isSpaceLine(line) {\n",
    "    return line.replace(/[\\s(\\r\\n)(\\n\\r)\\r\\n]/g, '').length  === 0;\n",
    "  }\n",
    "  console.log(isSpaceLine(testData));\n",
    "}"
   ]
  },
  {
   "cell_type": "code",
   "execution_count": 10,
   "metadata": {},
   "outputs": [
    {
     "name": "stdout",
     "output_type": "stream",
     "text": [
      "false\n"
     ]
    }
   ],
   "source": [
    "{\n",
    "  let arr = [1,2,3,4]\n",
    "  let f = arr.some((val)=>{\n",
    "    return val ===0;\n",
    "  })\n",
    "  console.log(f);\n",
    "}"
   ]
  },
  {
   "cell_type": "code",
   "execution_count": 1,
   "metadata": {},
   "outputs": [
    {
     "name": "stdout",
     "output_type": "stream",
     "text": [
      "T'\n",
      "*T|/T|%T|epsilon\n"
     ]
    }
   ],
   "source": [
    "let val = \"T' -> * T | / T | % T | epsilon\"\n",
    "let [front, last] = val.split('->').map(val=>val.replace(/ /g, ''))\n",
    "console.log(front);\n",
    "console.log(last);"
   ]
  },
  {
   "cell_type": "code",
   "execution_count": 11,
   "metadata": {},
   "outputs": [],
   "source": [
    "{\n",
    "  // let patternAll = /[A-Z][0-9]*\\'*|[a-z]+|[+-\\*\\/%\\(\\),><(>=)(<=)(==)(!=)(||)(&&)(!)=]/g\n",
    "  // let p1 = /[A-Z][0-9]*\\'*|[a-z]+/g\n",
    "  let p2 = /[-\\*\\/%\\(\\),><(>=)(<=)(==)(!=)(||)(&&)(!)=+]/g\n",
    "}"
   ]
  },
  {
   "cell_type": "code",
   "execution_count": 20,
   "metadata": {},
   "outputs": [
    {
     "data": {
      "text/plain": [
       "[ '>=' ]"
      ]
     },
     "execution_count": 20,
     "metadata": {},
     "output_type": "execute_result"
    }
   ],
   "source": [
    "{\n",
    "  let t = 'O -> > | < | >= | <= | == | != || ()';\n",
    "  let p = />=/g\n",
    "  t.match(p)\n",
    "}"
   ]
  },
  {
   "cell_type": "code",
   "execution_count": 21,
   "metadata": {},
   "outputs": [
    {
     "name": "stdout",
     "output_type": "stream",
     "text": [
      "Set(1) { 1 }\n"
     ]
    }
   ],
   "source": [
    "{\n",
    "  let t1 = [1,2,3,4]\n",
    "  let t2 = new Set();\n",
    "  t2.add(...t1);\n",
    "  console.log(t2);\n",
    "}"
   ]
  },
  {
   "cell_type": "code",
   "execution_count": 24,
   "metadata": {},
   "outputs": [
    {
     "data": {
      "text/plain": [
       "[ \"E3' -> || E3\", 'epsilon' ]"
      ]
     },
     "execution_count": 24,
     "metadata": {},
     "output_type": "execute_result"
    }
   ],
   "source": [
    "{\n",
    "  let last = \"E3' -> || E3 | epsilon\"\n",
    "  last.split(/[^\\|]\\|[^\\|]/);\n",
    "}"
   ]
  },
  {
   "cell_type": "code",
   "execution_count": 27,
   "metadata": {},
   "outputs": [
    {
     "name": "stdout",
     "output_type": "stream",
     "text": [
      "undefined\n"
     ]
    }
   ],
   "source": [
    "{\n",
    "  let s = new Map();\n",
    "  let k = '123'\n",
    "  s.set(k, [1,2,3]);\n",
    "  console.log(s.get);\n",
    "}"
   ]
  },
  {
   "cell_type": "code",
   "execution_count": 1,
   "metadata": {},
   "outputs": [
    {
     "name": "stdout",
     "output_type": "stream",
     "text": [
      "hahah1\n"
     ]
    }
   ],
   "source": [
    "console.log(\"hahah1\");"
   ]
  },
  {
   "cell_type": "code",
   "execution_count": 3,
   "metadata": {},
   "outputs": [
    {
     "name": "stdout",
     "output_type": "stream",
     "text": [
      "7\n"
     ]
    }
   ],
   "source": [
    "function fn(num){\n",
    "  let arr = num.toString().split('');\n",
    "  let weight = [11,7,5,3,2]\n",
    "  let sum = 0;\n",
    "  arr.forEach((val, i)=> {\n",
    "    sum += val*weight[i];\n",
    "  });\n",
    "  return sum%11\n",
    "}\n",
    "console.log(fn(12345));"
   ]
  },
  {
   "cell_type": "code",
   "execution_count": 4,
   "metadata": {},
   "outputs": [
    {
     "name": "stdout",
     "output_type": "stream",
     "text": [
      "Map(1) { 'b' => Map(1) { 'a' => [ '123' ] } }\n"
     ]
    }
   ],
   "source": [
    "{\n",
    "  let m1 = new Map();\n",
    "  let m2 = new Map();\n",
    "  m2.set('a',[]);\n",
    "  m1.set(\"b\",m2);\n",
    "  m1.get(\"b\").get(\"a\").push('123')\n",
    "  console.log(m1);\n",
    "}"
   ]
  },
  {
   "cell_type": "code",
   "execution_count": 5,
   "metadata": {},
   "outputs": [
    {
     "name": "stdout",
     "output_type": "stream",
     "text": [
      "1\n",
      "2\n",
      "3\n"
     ]
    }
   ],
   "source": [
    "{\n",
    "  let s = new Set([1,2,3]);\n",
    "  for(let i of s)console.log(i);\n",
    "}"
   ]
  },
  {
   "cell_type": "code",
   "execution_count": 4,
   "metadata": {},
   "outputs": [
    {
     "name": "stdout",
     "output_type": "stream",
     "text": [
      "Map(2) { 'a' => 2, 'b' => 3 }\n"
     ]
    }
   ],
   "source": [
    "{\n",
    "  let t = new Map([['a', 2], ['b', 3]])\n",
    "  console.log(t);\n",
    "}"
   ]
  },
  {
   "cell_type": "code",
   "execution_count": 5,
   "metadata": {},
   "outputs": [
    {
     "data": {
      "text/plain": [
       "true"
      ]
     },
     "execution_count": 5,
     "metadata": {},
     "output_type": "execute_result"
    }
   ],
   "source": [
    "/[A-Z][0-9]*\\'*/g.test('T')"
   ]
  },
  {
   "cell_type": "code",
   "execution_count": 4,
   "metadata": {},
   "outputs": [
    {
     "name": "stdout",
     "output_type": "stream",
     "text": [
      "true\n",
      "1\n",
      "false\n",
      "0\n",
      "true\n",
      "1\n",
      "false\n",
      "0\n",
      "true\n"
     ]
    }
   ],
   "source": [
    "{\n",
    "  let s = '(';\n",
    "  let p = /[a-z]+|[\\-\\*\\/%\\(\\),\\+]|(\\|\\|)|(>=)|(<=)|(==)|(!=)|(\\&\\&)/g;\n",
    "  console.log(p.test(s));\n",
    "  console.log(p.lastIndex);\n",
    "  console.log(p.test(s));\n",
    "  console.log(p.lastIndex);\n",
    "  console.log(p.test(s));\n",
    "  console.log(p.lastIndex);\n",
    "  console.log(p.test(s));\n",
    "  console.log(p.lastIndex);\n",
    "  console.log(p.test(s));\n",
    "}"
   ]
  },
  {
   "cell_type": "code",
   "execution_count": 6,
   "metadata": {},
   "outputs": [
    {
     "data": {
      "text/plain": [
       "3"
      ]
     },
     "execution_count": 6,
     "metadata": {},
     "output_type": "execute_result"
    }
   ],
   "source": [
    "{\n",
    "  let m = new Map([['a', 1], ['b', 2], ['c', 3]]);\n",
    "m.size\n",
    "}"
   ]
  },
  {
   "cell_type": "code",
   "execution_count": 1,
   "metadata": {},
   "outputs": [
    {
     "name": "stdout",
     "output_type": "stream",
     "text": [
      "1\n",
      "2\n",
      "3\n",
      "4\n",
      "5\n"
     ]
    }
   ],
   "source": [
    "{\n",
    "  let s = new Set([1,2,3,4,5]);\n",
    "  for(let i of s){console.log(i);}\n",
    "}"
   ]
  },
  {
   "cell_type": "code",
   "execution_count": 3,
   "metadata": {},
   "outputs": [
    {
     "name": "stdout",
     "output_type": "stream",
     "text": [
      "Map(3) {\n",
      "  'a' => Set(1) { 5 },\n",
      "  'b' => Set(1) { 5 },\n",
      "  'c' => Set(1) { 5 }\n",
      "}\n"
     ]
    }
   ],
   "source": [
    "{\n",
    "  let m = new Map([['a', new Set()], ['b', new Set()], ['c', new Set()]]);\n",
    "  for(let [k,v] of m){\n",
    "    v.add(5)\n",
    "  }\n",
    "  console.log(m);\n",
    "}"
   ]
  },
  {
   "cell_type": "code",
   "execution_count": 5,
   "metadata": {},
   "outputs": [
    {
     "name": "stdout",
     "output_type": "stream",
     "text": [
      "Set(0) {}\n",
      "Set(0) {}\n",
      "Set(0) {}\n"
     ]
    }
   ],
   "source": [
    "{\n",
    "  let m = new Map([['a', new Set()], ['b', new Set()], ['c', new Set()]]);\n",
    "  for(let i of m.values())console.log(i);\n",
    "}"
   ]
  },
  {
   "cell_type": "code",
   "execution_count": 6,
   "metadata": {},
   "outputs": [
    {
     "name": "stdout",
     "output_type": "stream",
     "text": [
      "true\n"
     ]
    }
   ],
   "source": [
    "{\n",
    "  let a = undefined\n",
    "  console.log(a === undefined);\n",
    "}"
   ]
  },
  {
   "cell_type": "code",
   "execution_count": 7,
   "metadata": {},
   "outputs": [
    {
     "ename": "SyntaxError",
     "evalue": "Invalid left-hand side expression in postfix operation",
     "output_type": "error",
     "traceback": [
      "evalmachine.<anonymous>:1",
      "'abc'++",
      "^^^^^",
      "",
      "SyntaxError: Invalid left-hand side expression in postfix operation",
      "    at new Script (node:vm:100:7)",
      "    at createScript (node:vm:257:10)",
      "    at Object.runInThisContext (node:vm:305:10)",
      "    at run ([eval]:1054:15)",
      "    at onRunRequest ([eval]:888:18)",
      "    at onMessage ([eval]:848:13)",
      "    at process.emit (node:events:390:28)",
      "    at emit (node:internal/child_process:917:12)",
      "    at processTicksAndRejections (node:internal/process/task_queues:84:21)"
     ]
    }
   ],
   "source": [
    "'abc'++"
   ]
  },
  {
   "cell_type": "code",
   "execution_count": 1,
   "metadata": {},
   "outputs": [
    {
     "name": "stdout",
     "output_type": "stream",
     "text": [
      "2\n"
     ]
    }
   ],
   "source": [
    "{\n",
    "  function t(){\n",
    "    return 2;\n",
    "  }\n",
    "  let b;\n",
    "  if(b = t()){\n",
    "    console.log(b);\n",
    "  }\n",
    "}"
   ]
  },
  {
   "cell_type": "code",
   "execution_count": 4,
   "metadata": {},
   "outputs": [
    {
     "name": "stdout",
     "output_type": "stream",
     "text": [
      "undefineda\n",
      "NaN\n",
      "undefinedb\n",
      "NaN\n",
      "undefinedc\n",
      "NaNd\n",
      "NaN\n",
      "NaNe\n",
      "NaNf\n",
      "NaN\n"
     ]
    }
   ],
   "source": [
    "{\n",
    "  function printTree(tree, op) {\n",
    "    if (typeof tree !== 'object') {\n",
    "      console.log(op + tree);\n",
    "      return;\n",
    "    }\n",
    "    for (let [k, obj] of Object.entries(tree)) {\n",
    "      console.log(op + k);\n",
    "      printTree(obj, op + op)\n",
    "    }\n",
    "  }\n",
    "  let obj = { 'a': 1, 'b': 2, 'c': { 'd': 3, 'e': { 'f': 4 } } };\n",
    "  printTree(obj)\n",
    "}"
   ]
  },
  {
   "cell_type": "code",
   "execution_count": null,
   "metadata": {},
   "outputs": [],
   "source": []
  }
 ],
 "metadata": {
  "kernelspec": {
   "display_name": "JavaScript (Node.js)",
   "language": "javascript",
   "name": "javascript"
  },
  "language_info": {
   "file_extension": ".js",
   "mimetype": "application/javascript",
   "name": "javascript",
   "version": "16.13.0"
  },
  "orig_nbformat": 4
 },
 "nbformat": 4,
 "nbformat_minor": 2
}
